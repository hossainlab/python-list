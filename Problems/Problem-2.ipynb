{
 "cells": [
  {
   "cell_type": "markdown",
   "metadata": {},
   "source": [
    "# Python Program to Find the Second Largest Number in a List\n",
    "This is a Python Program to find the Second largest number in a list.\n",
    "\n",
    "### Problem Description\n",
    "The program takes a list and prints the Second largest number in the list.\n",
    "\n",
    "### Problem Solution\n",
    "1.\tTake in the number of elements and store it in a variable.\n",
    "2.\tTake in the elements of the list one by one.\n",
    "3.\tSort the list in ascending order.\n",
    "4.\tPrint the last element of the list.\n",
    "5.\tExit.\n",
    "\n",
    "### Source Code\n"
   ]
  },
  {
   "cell_type": "markdown",
   "metadata": {},
   "source": [
    "```python\n",
    "li = [] \n",
    "n = int(input(\"Enter the number of elements: \")) \n",
    "for i in range(1, n+1): \n",
    "    elem = int(input(\"Enter the elements: \"))\n",
    "    li.append(elem) \n",
    "li.sort() \n",
    "print(\"The sorted List: \",li) \n",
    "print(\"The second largest value of sorted list: \",li[n-2]) \n",
    "```\n"
   ]
  },
  {
   "cell_type": "markdown",
   "metadata": {},
   "source": [
    "### Program Explanation\n",
    "1.\tUser must enter the number of elements and store it in a variable.\n",
    "2.\tUser must then enter the elements of the list one by one using a for loop and store it in a list.\n",
    "3.\tThe list should then be sorted.\n",
    "4.\tThen the last element of the list is printed which is also the largest element of the list.\n",
    "\n"
   ]
  },
  {
   "cell_type": "markdown",
   "metadata": {},
   "source": [
    "### Test Case-1"
   ]
  },
  {
   "cell_type": "code",
   "execution_count": 2,
   "metadata": {},
   "outputs": [
    {
     "name": "stdout",
     "output_type": "stream",
     "text": [
      "Enter the number of elements: 4\n",
      "Enter the elements: 50\n",
      "Enter the elements: 54\n",
      "Enter the elements: 60\n",
      "Enter the elements: 63\n",
      "The sorted List:  [50, 54, 60, 63]\n",
      "The second largest value of sorted list:  60\n"
     ]
    }
   ],
   "source": [
    "li = [] \n",
    "n = int(input(\"Enter the number of elements: \")) \n",
    "for i in range(1, n+1): \n",
    "    elem = int(input(\"Enter the elements: \"))\n",
    "    li.append(elem) \n",
    "li.sort() \n",
    "print(\"The sorted List: \",li) \n",
    "print(\"The second largest value of sorted list: \",li[n-2])"
   ]
  },
  {
   "cell_type": "markdown",
   "metadata": {},
   "source": [
    "### Test Case-2"
   ]
  },
  {
   "cell_type": "code",
   "execution_count": 3,
   "metadata": {},
   "outputs": [
    {
     "name": "stdout",
     "output_type": "stream",
     "text": [
      "Enter the number of elements: 5\n",
      "Enter the elements: -10\n",
      "Enter the elements: -70\n",
      "Enter the elements: -3\n",
      "Enter the elements: 0\n",
      "Enter the elements: -4\n",
      "The sorted List:  [-70, -10, -4, -3, 0]\n",
      "The second largest value of sorted list:  -3\n"
     ]
    }
   ],
   "source": [
    "li = [] \n",
    "n = int(input(\"Enter the number of elements: \")) \n",
    "for i in range(1, n+1): \n",
    "    elem = int(input(\"Enter the elements: \"))\n",
    "    li.append(elem) \n",
    "li.sort() \n",
    "print(\"The sorted List: \",li) \n",
    "print(\"The second largest value of sorted list: \",li[n-2])"
   ]
  },
  {
   "cell_type": "markdown",
   "metadata": {},
   "source": [
    "### Test Case-3"
   ]
  },
  {
   "cell_type": "code",
   "execution_count": 4,
   "metadata": {},
   "outputs": [
    {
     "name": "stdout",
     "output_type": "stream",
     "text": [
      "Enter the number of elements: 4\n",
      "Enter the elements: 10\n",
      "Enter the elements: -40\n",
      "Enter the elements: -3\n",
      "Enter the elements: 80\n",
      "The sorted List:  [-40, -3, 10, 80]\n",
      "The second largest value of sorted list:  10\n"
     ]
    }
   ],
   "source": [
    "li = [] \n",
    "n = int(input(\"Enter the number of elements: \")) \n",
    "for i in range(1, n+1): \n",
    "    elem = int(input(\"Enter the elements: \"))\n",
    "    li.append(elem) \n",
    "li.sort() \n",
    "print(\"The sorted List: \",li) \n",
    "print(\"The second largest value of sorted list: \",li[n-2])"
   ]
  }
 ],
 "metadata": {
  "kernelspec": {
   "display_name": "Python 3",
   "language": "python",
   "name": "python3"
  },
  "language_info": {
   "codemirror_mode": {
    "name": "ipython",
    "version": 3
   },
   "file_extension": ".py",
   "mimetype": "text/x-python",
   "name": "python",
   "nbconvert_exporter": "python",
   "pygments_lexer": "ipython3",
   "version": "3.6.4"
  }
 },
 "nbformat": 4,
 "nbformat_minor": 2
}
