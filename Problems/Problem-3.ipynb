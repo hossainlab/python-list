{
 "cells": [
  {
   "cell_type": "markdown",
   "metadata": {},
   "source": [
    "# Python Program to Find the Smallest Number in a List\n",
    "This is a Python Program to find the Smallest number in a list.\n",
    "\n",
    "### Problem Description\n",
    "The program takes a list and prints the smallest number in the list.\n",
    "\n",
    "### Problem Solution\n",
    "1.\tTake in the number of elements and store it in a variable.\n",
    "2.\tTake in the elements of the list one by one.\n",
    "3.\tSort the list in ascending order.\n",
    "4.\tPrint the last element of the list.\n",
    "5.\tExit.\n",
    "\n",
    "### Source Code\n"
   ]
  },
  {
   "cell_type": "markdown",
   "metadata": {},
   "source": [
    "```python\n",
    "li = [] \n",
    "n = int(input(\"Enter the number of elements: \"))\n",
    "for i in range(1, n+1): \n",
    "    elem = int(input(\"Enter the elements: \")) \n",
    "    li.append(elem) \n",
    "li.sort() \n",
    "\n",
    "print(\"The sorted list: \", li) \n",
    "print(\"The smallest value of this list: \",li[0]) \n",
    "\n",
    "```"
   ]
  },
  {
   "cell_type": "markdown",
   "metadata": {},
   "source": [
    "### Program Explanation\n",
    "1.\tUser must enter the number of elements and store it in a variable.\n",
    "2.\tUser must then enter the elements of the list one by one using a for loop and store it in a list.\n",
    "3.\tThe list should then be sorted.\n",
    "4.\tThen the first element of the list is printed which is also the smallest element of the list.\n",
    "\n"
   ]
  },
  {
   "cell_type": "markdown",
   "metadata": {},
   "source": [
    "### Test Case-1"
   ]
  },
  {
   "cell_type": "code",
   "execution_count": 2,
   "metadata": {},
   "outputs": [
    {
     "name": "stdout",
     "output_type": "stream",
     "text": [
      "Enter the number of elements: 4\n",
      "Enter the elements: 36\n",
      "Enter the elements: 14\n",
      "Enter the elements: 52\n",
      "Enter the elements: 78\n",
      "The sorted list:  [14, 36, 52, 78]\n",
      "The smallest value of this list:  14\n"
     ]
    }
   ],
   "source": [
    "li = [] \n",
    "n = int(input(\"Enter the number of elements: \"))\n",
    "for i in range(1, n+1): \n",
    "    elem = int(input(\"Enter the elements: \")) \n",
    "    li.append(elem) \n",
    "li.sort() \n",
    "\n",
    "print(\"The sorted list: \", li) \n",
    "print(\"The smallest value of this list: \",li[0])\n"
   ]
  },
  {
   "cell_type": "markdown",
   "metadata": {},
   "source": [
    "### Test Case-2"
   ]
  },
  {
   "cell_type": "code",
   "execution_count": 3,
   "metadata": {},
   "outputs": [
    {
     "name": "stdout",
     "output_type": "stream",
     "text": [
      "Enter the number of elements: 10\n",
      "Enter the elements: -7\n",
      "Enter the elements: 15\n",
      "Enter the elements: 86\n",
      "Enter the elements: -3\n",
      "Enter the elements: 0\n",
      "Enter the elements: 49\n",
      "Enter the elements: 78\n",
      "Enter the elements: 2\n",
      "Enter the elements: -3\n",
      "Enter the elements: 33\n",
      "The sorted list:  [-7, -3, -3, 0, 2, 15, 33, 49, 78, 86]\n",
      "The smallest value of this list:  -7\n"
     ]
    }
   ],
   "source": [
    "li = [] \n",
    "n = int(input(\"Enter the number of elements: \"))\n",
    "for i in range(1, n+1): \n",
    "    elem = int(input(\"Enter the elements: \")) \n",
    "    li.append(elem) \n",
    "li.sort() \n",
    "\n",
    "print(\"The sorted list: \", li) \n",
    "print(\"The smallest value of this list: \",li[0])\n"
   ]
  },
  {
   "cell_type": "markdown",
   "metadata": {},
   "source": [
    "### Test Case-3"
   ]
  },
  {
   "cell_type": "code",
   "execution_count": 4,
   "metadata": {},
   "outputs": [
    {
     "name": "stdout",
     "output_type": "stream",
     "text": [
      "Enter the number of elements: 5\n",
      "Enter the elements: -4\n",
      "Enter the elements: -3\n",
      "Enter the elements: -2\n",
      "Enter the elements: -1\n",
      "Enter the elements: 0\n",
      "The sorted list:  [-4, -3, -2, -1, 0]\n",
      "The smallest value of this list:  -4\n"
     ]
    }
   ],
   "source": [
    "li = [] \n",
    "n = int(input(\"Enter the number of elements: \"))\n",
    "for i in range(1, n+1): \n",
    "    elem = int(input(\"Enter the elements: \")) \n",
    "    li.append(elem) \n",
    "li.sort() \n",
    "\n",
    "print(\"The sorted list: \", li) \n",
    "print(\"The smallest value of this list: \",li[0])\n"
   ]
  }
 ],
 "metadata": {
  "kernelspec": {
   "display_name": "Python 3",
   "language": "python",
   "name": "python3"
  },
  "language_info": {
   "codemirror_mode": {
    "name": "ipython",
    "version": 3
   },
   "file_extension": ".py",
   "mimetype": "text/x-python",
   "name": "python",
   "nbconvert_exporter": "python",
   "pygments_lexer": "ipython3",
   "version": "3.6.4"
  }
 },
 "nbformat": 4,
 "nbformat_minor": 2
}
