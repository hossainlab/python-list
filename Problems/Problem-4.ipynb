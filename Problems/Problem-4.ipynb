{
 "cells": [
  {
   "cell_type": "markdown",
   "metadata": {},
   "source": [
    "# Python Program to Find the Second Smallest Number in a List\n",
    "This is a Python Program to find the Second Smallest number in a list.\n",
    "\n",
    "### Problem Description\n",
    "The program takes a list and prints the second smallest number in the list.\n",
    "\n",
    "### Problem Solution\n",
    "1.\tTake in the number of elements and store it in a variable.\n",
    "2.\tTake in the elements of the list one by one.\n",
    "3.\tSort the list in ascending order.\n",
    "4.\tPrint the last element of the list.\n",
    "5.\tExit.\n",
    "\n",
    "### Source Code\n",
    "\n"
   ]
  },
  {
   "cell_type": "markdown",
   "metadata": {},
   "source": [
    "```python\n",
    "li = [] \n",
    "n = int(input(\"Enter the number of elements: \"))\n",
    "for i in range(1, n+1): \n",
    "    elem = int(input(\"Enter the elements: \")) \n",
    "    li.append(elem) \n",
    "li.sort() \n",
    "\n",
    "print(\"The sorted list: \", li) \n",
    "print(\"The second smallest value of this list: \",li[1])\n",
    "```"
   ]
  },
  {
   "cell_type": "markdown",
   "metadata": {},
   "source": [
    "### Program Explanation\n",
    "1.\tUser must enter the number of elements and store it in a variable.\n",
    "2.\tUser must then enter the elements of the list one by one using a for loop and store it in a list.\n",
    "3.\tThe list should then be sorted.\n",
    "4.\tThen the first element of the list is printed which is also the smallest element of the list.\n",
    "\n"
   ]
  },
  {
   "cell_type": "markdown",
   "metadata": {},
   "source": [
    "### Test Case-1 "
   ]
  },
  {
   "cell_type": "code",
   "execution_count": 4,
   "metadata": {},
   "outputs": [
    {
     "name": "stdout",
     "output_type": "stream",
     "text": [
      "Enter the number of elements: 4\n",
      "Enter the elements: 50\n",
      "Enter the elements: 45\n",
      "Enter the elements: 36\n",
      "Enter the elements: 12\n",
      "The sorted list:  [12, 36, 45, 50]\n",
      "The second smallest value of this list:  36\n"
     ]
    }
   ],
   "source": [
    "li = [] \n",
    "n = int(input(\"Enter the number of elements: \"))\n",
    "for i in range(1, n+1): \n",
    "    elem = int(input(\"Enter the elements: \")) \n",
    "    li.append(elem) \n",
    "li.sort() \n",
    "\n",
    "print(\"The sorted list: \", li) \n",
    "print(\"The second smallest value of this list: \",li[1])"
   ]
  },
  {
   "cell_type": "markdown",
   "metadata": {},
   "source": [
    "### Test Case-2 "
   ]
  },
  {
   "cell_type": "code",
   "execution_count": 5,
   "metadata": {},
   "outputs": [
    {
     "name": "stdout",
     "output_type": "stream",
     "text": [
      "Enter the number of elements: 5\n",
      "Enter the elements: 10\n",
      "Enter the elements: 40\n",
      "Enter the elements: 70\n",
      "Enter the elements: 100\n",
      "Enter the elements: 130\n",
      "The sorted list:  [10, 40, 70, 100, 130]\n",
      "The second smallest value of this list:  40\n"
     ]
    }
   ],
   "source": [
    "li = [] \n",
    "n = int(input(\"Enter the number of elements: \"))\n",
    "for i in range(1, n+1): \n",
    "    elem = int(input(\"Enter the elements: \")) \n",
    "    li.append(elem) \n",
    "li.sort() \n",
    "\n",
    "print(\"The sorted list: \", li) \n",
    "print(\"The second smallest value of this list: \",li[1])"
   ]
  },
  {
   "cell_type": "markdown",
   "metadata": {},
   "source": [
    "### Test Case-3"
   ]
  },
  {
   "cell_type": "code",
   "execution_count": 6,
   "metadata": {},
   "outputs": [
    {
     "name": "stdout",
     "output_type": "stream",
     "text": [
      "Enter the number of elements: 10\n",
      "Enter the elements: -3\n",
      "Enter the elements: -2\n",
      "Enter the elements: -1\n",
      "Enter the elements: 3\n",
      "Enter the elements: 2\n",
      "Enter the elements: 1\n",
      "Enter the elements: 0\n",
      "Enter the elements: 4\n",
      "Enter the elements: 3\n",
      "Enter the elements: 4\n",
      "The sorted list:  [-3, -2, -1, 0, 1, 2, 3, 3, 4, 4]\n",
      "The second smallest value of this list:  -2\n"
     ]
    }
   ],
   "source": [
    "li = [] \n",
    "n = int(input(\"Enter the number of elements: \"))\n",
    "for i in range(1, n+1): \n",
    "    elem = int(input(\"Enter the elements: \")) \n",
    "    li.append(elem) \n",
    "li.sort() \n",
    "\n",
    "print(\"The sorted list: \", li) \n",
    "print(\"The second smallest value of this list: \",li[1])"
   ]
  }
 ],
 "metadata": {
  "kernelspec": {
   "display_name": "Python 3",
   "language": "python",
   "name": "python3"
  },
  "language_info": {
   "codemirror_mode": {
    "name": "ipython",
    "version": 3
   },
   "file_extension": ".py",
   "mimetype": "text/x-python",
   "name": "python",
   "nbconvert_exporter": "python",
   "pygments_lexer": "ipython3",
   "version": "3.6.4"
  }
 },
 "nbformat": 4,
 "nbformat_minor": 2
}
