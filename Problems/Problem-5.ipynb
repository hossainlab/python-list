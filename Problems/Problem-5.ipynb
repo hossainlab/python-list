{
 "cells": [
  {
   "cell_type": "markdown",
   "metadata": {},
   "source": [
    "### To find the sum of all the elements in a list.\n",
    "\n",
    "1. Read input number asking for length of the list using input()\n",
    "2. Initialise an empty list lst = [].\n",
    "3. Read each number using a for loop.\n",
    "4. In the for loop append each number to the list.\n",
    "5. Now we use predefined function sum() to find the sum of all the elements in a list.\n",
    "6. Print the result."
   ]
  },
  {
   "cell_type": "markdown",
   "metadata": {},
   "source": [
    "### By Using Buil-in Function sum()"
   ]
  },
  {
   "cell_type": "markdown",
   "metadata": {},
   "source": [
    "```python\n",
    "li = [] \n",
    "n = int(input(\"Enter the number of elements: \")) \n",
    "for i in range(n): \n",
    "    elem = int(input(\"Enter the elements: \")) \n",
    "    li.append(elem) \n",
    "print(\"The list:\",li) \n",
    "print(\"The sum of the list = {}\".format(sum(li)))\n",
    "```"
   ]
  },
  {
   "cell_type": "markdown",
   "metadata": {},
   "source": [
    "### Test Case-1 "
   ]
  },
  {
   "cell_type": "code",
   "execution_count": 2,
   "metadata": {},
   "outputs": [
    {
     "name": "stdout",
     "output_type": "stream",
     "text": [
      "Enter the number of elements: 4\n",
      "Enter the elements: 30\n",
      "Enter the elements: 30\n",
      "Enter the elements: 30\n",
      "Enter the elements: 30\n",
      "The list: [30, 30, 30, 30]\n",
      "The sum of the list = 120\n"
     ]
    }
   ],
   "source": [
    "li = [] \n",
    "n = int(input(\"Enter the number of elements: \")) \n",
    "for i in range(n): \n",
    "    elem = int(input(\"Enter the elements: \")) \n",
    "    li.append(elem) \n",
    "print(\"The list:\",li) \n",
    "print(\"The sum of the list = {}\".format(sum(li)))"
   ]
  },
  {
   "cell_type": "markdown",
   "metadata": {},
   "source": [
    "### Test Case-2"
   ]
  },
  {
   "cell_type": "code",
   "execution_count": 3,
   "metadata": {},
   "outputs": [
    {
     "name": "stdout",
     "output_type": "stream",
     "text": [
      "Enter the number of elements: 10\n",
      "Enter the elements: 4\n",
      "Enter the elements: 5\n",
      "Enter the elements: -10\n",
      "Enter the elements: 20\n",
      "Enter the elements: -50\n",
      "Enter the elements: 30\n",
      "Enter the elements: -9\n",
      "Enter the elements: -2\n",
      "Enter the elements: 0\n",
      "Enter the elements: 7\n",
      "The list: [4, 5, -10, 20, -50, 30, -9, -2, 0, 7]\n",
      "The sum of the list = -5\n"
     ]
    }
   ],
   "source": [
    "\n",
    "li = [] \n",
    "n = int(input(\"Enter the number of elements: \")) \n",
    "for i in range(n): \n",
    "    elem = int(input(\"Enter the elements: \")) \n",
    "    li.append(elem) \n",
    "print(\"The list:\",li) \n",
    "print(\"The sum of the list = {}\".format(sum(li)))"
   ]
  },
  {
   "cell_type": "markdown",
   "metadata": {},
   "source": [
    "## Without Built-in Function Finding Sum\n",
    "### Source Code "
   ]
  },
  {
   "cell_type": "markdown",
   "metadata": {},
   "source": [
    "```python\n",
    "numbers = [] \n",
    "n = int(input(\"Enter the elements: \")) \n",
    "for i in range(0, n): \n",
    "    elem = int(input(\"Enter the elements: \")) \n",
    "    numbers.append(elem) \n",
    "\n",
    "def findSum(numbers): \n",
    "    total = 0 \n",
    "    for j in numbers: \n",
    "        total += j \n",
    "    return total \n",
    "\n",
    "\n",
    "if __name__ == '__main__': \n",
    "    temp = findSum(numbers)\n",
    "    print(\"The created list: \",numbers)\n",
    "    print(\"The Sum = \",temp)\n",
    "```"
   ]
  },
  {
   "cell_type": "markdown",
   "metadata": {},
   "source": [
    "### Test Case-1"
   ]
  },
  {
   "cell_type": "code",
   "execution_count": 5,
   "metadata": {},
   "outputs": [
    {
     "name": "stdout",
     "output_type": "stream",
     "text": [
      "Enter the elements: 4\n",
      "Enter the elements: 30\n",
      "Enter the elements: 40\n",
      "Enter the elements: 10\n",
      "Enter the elements: 20\n",
      "The created list:  [30, 40, 10, 20]\n",
      "The Sum =  100\n"
     ]
    }
   ],
   "source": [
    "numbers = [] \n",
    "n = int(input(\"Enter the elements: \")) \n",
    "for i in range(0, n): \n",
    "    elem = int(input(\"Enter the elements: \")) \n",
    "    numbers.append(elem) \n",
    "\n",
    "def findSum(numbers): \n",
    "    total = 0 \n",
    "    for j in numbers: \n",
    "        total += j \n",
    "    return total \n",
    "\n",
    "\n",
    "if __name__ == '__main__': \n",
    "    temp = findSum(numbers)\n",
    "    print(\"The created list: \",numbers)\n",
    "    print(\"The Sum = \",temp)\n",
    "    "
   ]
  },
  {
   "cell_type": "code",
   "execution_count": null,
   "metadata": {},
   "outputs": [],
   "source": [
    "numbers = [] \n",
    "n = int(input(\"Enter the elements: \")) \n",
    "for i in range(0, n): \n",
    "    elem = int(input(\"Enter the elements: \")) \n",
    "    numbers.append(elem) \n",
    "\n",
    "def findSum(numbers): \n",
    "    total = 0 \n",
    "    for j in numbers: \n",
    "        total += j \n",
    "    return total \n",
    "\n",
    "\n",
    "if __name__ == '__main__': \n",
    "    temp = findSum(numbers)\n",
    "    print(\"The created list: \",numbers)\n",
    "    print(\"The Sum = \",temp)"
   ]
  }
 ],
 "metadata": {
  "kernelspec": {
   "display_name": "Python 3",
   "language": "python",
   "name": "python3"
  },
  "language_info": {
   "codemirror_mode": {
    "name": "ipython",
    "version": 3
   },
   "file_extension": ".py",
   "mimetype": "text/x-python",
   "name": "python",
   "nbconvert_exporter": "python",
   "pygments_lexer": "ipython3",
   "version": "3.6.4"
  }
 },
 "nbformat": 4,
 "nbformat_minor": 2
}
