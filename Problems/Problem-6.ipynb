{
 "cells": [
  {
   "cell_type": "markdown",
   "metadata": {},
   "source": [
    "# Python Program to Calculate the Average of Numbers in a Given List\n",
    "This is a Python Program to Calculate the Average of Numbers in a Given List.\n",
    "\n",
    "### Problem Description\n",
    "The program takes the elements of the list one by one and displays the average of the elements of the list.\n",
    "\n",
    "### Problem Solution\n",
    "1.\tTake the number of elements to be stored in the list as input.\n",
    "2.\tUse a for loop to input elements into the list.\n",
    "3.\tCalculate the total sum of elements in the list.\n",
    "4.\tDivide the sum by total number of elements in the list.\n",
    "5.\tExit.\n",
    "\n",
    "### Source Code"
   ]
  },
  {
   "cell_type": "markdown",
   "metadata": {},
   "source": [
    "### To Find Average By Using Built-in Function"
   ]
  },
  {
   "cell_type": "markdown",
   "metadata": {},
   "source": [
    "```python\n",
    "numbers = [] \n",
    "n = int(input(\"Enter the number of elements: \")) \n",
    "for i in range(0, n): \n",
    "    elem = int(input(\"Enter the elements: \")) \n",
    "    numbers.append(elem) \n",
    "avg = sum(numbers)/n\n",
    "print(\"The created list: \",numbers)\n",
    "print(\"The average = \",avg)    \n",
    "```"
   ]
  },
  {
   "cell_type": "markdown",
   "metadata": {},
   "source": [
    "### Program Explanation\n",
    "1.\tUser must first enter the number of elements which is stored in the variable n.\n",
    "2.\tThe value of I ranges from 0 to the number of elements and is incremented each time after the body of the loop is executed.\n",
    "3.\tThen, the element that the user enters is stored in the variable elem.\n",
    "4.\ta.append(elem) appends the element to the list.\n",
    "5.\tNow the value of i is incremented to 2.\n",
    "6.\tThe new value entered by the user for the next loop iteration is now stored in elem which is appended to the list.\n",
    "7.\tThe loop runs till the value of i reaches n.\n",
    "8.\tsum(a) gives the total sum of all the elements in the list and dividing it by the total number of elements gives the average of elements in the list.\n",
    "9.\tround(avg,2) rounds the average upto 2 decimal places.\n",
    "10.\tThen the average is printed after rounding."
   ]
  },
  {
   "cell_type": "markdown",
   "metadata": {},
   "source": [
    "### Test Case-1(Without Fixed Decimal Points)"
   ]
  },
  {
   "cell_type": "code",
   "execution_count": 2,
   "metadata": {},
   "outputs": [
    {
     "name": "stdout",
     "output_type": "stream",
     "text": [
      "Enter the number of elements: 4\n",
      "Enter the elements: 30\n",
      "Enter the elements: 40\n",
      "Enter the elements: 10\n",
      "Enter the elements: 20\n",
      "The created list:  [30, 40, 10, 20]\n",
      "The average =  25.0\n"
     ]
    }
   ],
   "source": [
    "numbers = [] \n",
    "n = int(input(\"Enter the number of elements: \")) \n",
    "for i in range(0, n): \n",
    "    elem = int(input(\"Enter the elements: \")) \n",
    "    numbers.append(elem) \n",
    "avg = sum(numbers)/n\n",
    "print(\"The created list: \",numbers)\n",
    "print(\"The average = \",avg)"
   ]
  },
  {
   "cell_type": "markdown",
   "metadata": {},
   "source": [
    "### Test Case-2(Fixed Decimal Points)"
   ]
  },
  {
   "cell_type": "code",
   "execution_count": 3,
   "metadata": {},
   "outputs": [
    {
     "name": "stdout",
     "output_type": "stream",
     "text": [
      "Enter the number of elements: 4\n",
      "Enter the elements: 55\n",
      "Enter the elements: 80\n",
      "Enter the elements: 23\n",
      "Enter the elements: 56\n",
      "The created list:  [55, 80, 23, 56]\n",
      "The average =  53.5\n"
     ]
    }
   ],
   "source": [
    "numbers = [] \n",
    "n = int(input(\"Enter the number of elements: \")) \n",
    "for i in range(0, n): \n",
    "    elem = int(input(\"Enter the elements: \")) \n",
    "    numbers.append(elem) \n",
    "avg = sum(numbers)/n\n",
    "print(\"The created list: \",numbers)\n",
    "print(\"The average = \",round(avg, 2))"
   ]
  },
  {
   "cell_type": "markdown",
   "metadata": {},
   "source": [
    "### To Find Average Without Built-in Function"
   ]
  },
  {
   "cell_type": "markdown",
   "metadata": {},
   "source": [
    "```python\n",
    "numbers = [] \n",
    "n = int(input(\"Enter the number of elements: \")) \n",
    "for i in range(0, n): \n",
    "    elem = int(input(\"Enter the elements: \")) \n",
    "    numbers.append(elem) \n",
    "    \n",
    "def findAvg(numbers): \n",
    "    total = 0 \n",
    "    for j in numbers: \n",
    "        total += j \n",
    "        avg = total/n \n",
    "    return avg \n",
    "\n",
    "if __name__ == '__main__': \n",
    "    temp = findAvg(numbers) \n",
    "    print(\"The Average =\",temp)\n",
    "```\n"
   ]
  },
  {
   "cell_type": "markdown",
   "metadata": {},
   "source": [
    "### Test Case-1(Without Fixed Decimal Points)"
   ]
  },
  {
   "cell_type": "code",
   "execution_count": 6,
   "metadata": {},
   "outputs": [
    {
     "name": "stdout",
     "output_type": "stream",
     "text": [
      "Enter the number of elements: 4\n",
      "Enter the elements: 88\n",
      "Enter the elements: 70\n",
      "Enter the elements: 90\n",
      "Enter the elements: 70\n",
      "The Average = 79.5\n"
     ]
    }
   ],
   "source": [
    "numbers = [] \n",
    "n = int(input(\"Enter the number of elements: \")) \n",
    "for i in range(0, n): \n",
    "    elem = int(input(\"Enter the elements: \")) \n",
    "    numbers.append(elem) \n",
    "\n",
    "def findAvg(numbers): \n",
    "    total = 0 \n",
    "    for j in numbers: \n",
    "        total += j \n",
    "        avg = total/n \n",
    "    return avg \n",
    "\n",
    "if __name__ == '__main__': \n",
    "    temp = findAvg(numbers) \n",
    "    print(\"The Average =\",temp)\n",
    "\n"
   ]
  },
  {
   "cell_type": "markdown",
   "metadata": {},
   "source": [
    "### Test Case-2(Fixed Decimal Points)"
   ]
  },
  {
   "cell_type": "code",
   "execution_count": 2,
   "metadata": {},
   "outputs": [
    {
     "name": "stdout",
     "output_type": "stream",
     "text": [
      "Enter the number of elements: 4\n",
      "Enter the elements: 55\n",
      "Enter the elements: 60\n",
      "Enter the elements: 78\n",
      "Enter the elements: 90\n",
      "The Average = 70.75\n"
     ]
    }
   ],
   "source": [
    "numbers = [] \n",
    "n = int(input(\"Enter the number of elements: \")) \n",
    "for i in range(0, n): \n",
    "    elem = int(input(\"Enter the elements: \")) \n",
    "    numbers.append(elem) \n",
    "\n",
    "def findAvg(numbers): \n",
    "    total = 0 \n",
    "    for j in numbers: \n",
    "        total += j \n",
    "        avg = total/n \n",
    "    return avg \n",
    "\n",
    "if __name__ == '__main__': \n",
    "    temp = findAvg(numbers) \n",
    "    print(\"The Average =\",round(temp, 2))\n"
   ]
  }
 ],
 "metadata": {
  "kernelspec": {
   "display_name": "Python 3",
   "language": "python",
   "name": "python3"
  },
  "language_info": {
   "codemirror_mode": {
    "name": "ipython",
    "version": 3
   },
   "file_extension": ".py",
   "mimetype": "text/x-python",
   "name": "python",
   "nbconvert_exporter": "python",
   "pygments_lexer": "ipython3",
   "version": "3.6.4"
  }
 },
 "nbformat": 4,
 "nbformat_minor": 2
}
