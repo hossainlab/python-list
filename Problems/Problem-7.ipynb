{
 "cells": [
  {
   "cell_type": "code",
   "execution_count": 3,
   "metadata": {},
   "outputs": [
    {
     "name": "stdout",
     "output_type": "stream",
     "text": [
      "Enter the number of elements: 4\n",
      "Enter the elements: 10\n",
      "Enter the elements: 20\n",
      "Enter the elements: 11\n",
      "Enter the elements: 13\n",
      "Even list:  [10, 20]\n",
      "Odd list:  [11, 13]\n"
     ]
    }
   ],
   "source": [
    "li = [] \n",
    "n = int(input(\"Enter the number of elements: \")) \n",
    "for i in range(0, n): \n",
    "    elem = int(input(\"Enter the elements: \")) \n",
    "    li.append(elem) \n",
    "\n",
    "even = []\n",
    "odd = [] \n",
    "\n",
    "for j in li: \n",
    "    if (j%2) == 0: \n",
    "        even.append(j) \n",
    "    else: \n",
    "        odd.append(j) \n",
    "\n",
    "print(\"Even list: \",even) \n",
    "print(\"Odd list: \",odd) "
   ]
  },
  {
   "cell_type": "code",
   "execution_count": null,
   "metadata": {},
   "outputs": [],
   "source": []
  }
 ],
 "metadata": {
  "kernelspec": {
   "display_name": "Python 3",
   "language": "python",
   "name": "python3"
  },
  "language_info": {
   "codemirror_mode": {
    "name": "ipython",
    "version": 3
   },
   "file_extension": ".py",
   "mimetype": "text/x-python",
   "name": "python",
   "nbconvert_exporter": "python",
   "pygments_lexer": "ipython3",
   "version": "3.6.4"
  }
 },
 "nbformat": 4,
 "nbformat_minor": 2
}
